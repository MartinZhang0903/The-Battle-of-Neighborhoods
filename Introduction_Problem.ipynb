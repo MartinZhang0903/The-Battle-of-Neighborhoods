{
  "nbformat": 4,
  "nbformat_minor": 0,
  "metadata": {
    "colab": {
      "name": "Introduction/Problem.ipynb",
      "provenance": []
    },
    "kernelspec": {
      "name": "python3",
      "display_name": "Python 3"
    }
  },
  "cells": [
    {
      "cell_type": "markdown",
      "metadata": {
        "id": "yCnyONkeTKJg"
      },
      "source": [
        "**# Introduction/Business Problem**\n",
        "\n",
        "In this project, we will try to find an optimal location to open a restaurant. Specifically, the report will target stakeholders interested in opening restaurants and schools in New York City, USA.\n",
        "\n",
        "Since New York has many restaurants, we will try to find places where the restaurants are not full yet. We are also particularly interested in areas where there are no Italian restaurants nearby. On the premise of meeting the first two conditions, we will also choose the location closer to the city center.\n",
        "\n",
        "We will build on our data science capabilities to generate several of the most promising communities. The advantages of each area will be clearly expressed so that stakeholders can choose the best final location. First, we want to explore the central cluster"
      ]
    }
  ]
}